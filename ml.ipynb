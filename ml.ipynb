{
 "cells": [
  {
   "cell_type": "code",
   "execution_count": 24,
   "metadata": {},
   "outputs": [],
   "source": [
    "import pandas as pd\n",
    "import numpy as np\n",
    "\n",
    "import matplotlib.pyplot as plt\n",
    "import seaborn as sns\n",
    "\n",
    "from sklearn.model_selection import train_test_split\n",
    "from sklearn.ensemble import RandomForestRegressor\n",
    "from sklearn.linear_model import LogisticRegression\n",
    "from sklearn.tree import DecisionTreeClassifier\n",
    "from sklearn.metrics import accuracy_score\n",
    "from sklearn.preprocessing import StandardScaler\n",
    "from sklearn.preprocessing import LabelEncoder\n",
    "from sklearn.metrics import mean_absolute_error\n",
    "\n",
    "#from prophet import Prophet\n"
   ]
  },
  {
   "cell_type": "code",
   "execution_count": 3,
   "metadata": {},
   "outputs": [
    {
     "data": {
      "text/html": [
       "<div>\n",
       "<style scoped>\n",
       "    .dataframe tbody tr th:only-of-type {\n",
       "        vertical-align: middle;\n",
       "    }\n",
       "\n",
       "    .dataframe tbody tr th {\n",
       "        vertical-align: top;\n",
       "    }\n",
       "\n",
       "    .dataframe thead th {\n",
       "        text-align: right;\n",
       "    }\n",
       "</style>\n",
       "<table border=\"1\" class=\"dataframe\">\n",
       "  <thead>\n",
       "    <tr style=\"text-align: right;\">\n",
       "      <th></th>\n",
       "      <th>Year</th>\n",
       "      <th>Population_Total</th>\n",
       "      <th>Population_Natives</th>\n",
       "      <th>Population_Immigrants</th>\n",
       "      <th>House_Hold</th>\n",
       "      <th>Marriages</th>\n",
       "      <th>Divorces</th>\n",
       "      <th>Births</th>\n",
       "      <th>Dead</th>\n",
       "      <th>Arrival</th>\n",
       "      <th>Going-away</th>\n",
       "      <th>Unemployment</th>\n",
       "    </tr>\n",
       "  </thead>\n",
       "  <tbody>\n",
       "    <tr>\n",
       "      <th>0</th>\n",
       "      <td>1941</td>\n",
       "      <td>130688</td>\n",
       "      <td>126463</td>\n",
       "      <td>4225</td>\n",
       "      <td>38208</td>\n",
       "      <td>1431</td>\n",
       "      <td>170</td>\n",
       "      <td>1631</td>\n",
       "      <td>1290</td>\n",
       "      <td>12321</td>\n",
       "      <td>9391</td>\n",
       "      <td>168</td>\n",
       "    </tr>\n",
       "    <tr>\n",
       "      <th>1</th>\n",
       "      <td>1942</td>\n",
       "      <td>132405</td>\n",
       "      <td>128265</td>\n",
       "      <td>4140</td>\n",
       "      <td>39018</td>\n",
       "      <td>1433</td>\n",
       "      <td>173</td>\n",
       "      <td>1700</td>\n",
       "      <td>1291</td>\n",
       "      <td>12420</td>\n",
       "      <td>9751</td>\n",
       "      <td>169</td>\n",
       "    </tr>\n",
       "    <tr>\n",
       "      <th>2</th>\n",
       "      <td>1943</td>\n",
       "      <td>134123</td>\n",
       "      <td>130068</td>\n",
       "      <td>4055</td>\n",
       "      <td>39828</td>\n",
       "      <td>1434</td>\n",
       "      <td>176</td>\n",
       "      <td>1769</td>\n",
       "      <td>1293</td>\n",
       "      <td>12520</td>\n",
       "      <td>10112</td>\n",
       "      <td>170</td>\n",
       "    </tr>\n",
       "    <tr>\n",
       "      <th>3</th>\n",
       "      <td>1944</td>\n",
       "      <td>135841</td>\n",
       "      <td>131870</td>\n",
       "      <td>3970</td>\n",
       "      <td>40639</td>\n",
       "      <td>1436</td>\n",
       "      <td>178</td>\n",
       "      <td>1838</td>\n",
       "      <td>1294</td>\n",
       "      <td>12619</td>\n",
       "      <td>10472</td>\n",
       "      <td>171</td>\n",
       "    </tr>\n",
       "    <tr>\n",
       "      <th>4</th>\n",
       "      <td>1945</td>\n",
       "      <td>137559</td>\n",
       "      <td>133673</td>\n",
       "      <td>3886</td>\n",
       "      <td>41449</td>\n",
       "      <td>1438</td>\n",
       "      <td>181</td>\n",
       "      <td>1907</td>\n",
       "      <td>1296</td>\n",
       "      <td>12719</td>\n",
       "      <td>10833</td>\n",
       "      <td>172</td>\n",
       "    </tr>\n",
       "  </tbody>\n",
       "</table>\n",
       "</div>"
      ],
      "text/plain": [
       "   Year  Population_Total  Population_Natives  Population_Immigrants  \\\n",
       "0  1941            130688              126463                   4225   \n",
       "1  1942            132405              128265                   4140   \n",
       "2  1943            134123              130068                   4055   \n",
       "3  1944            135841              131870                   3970   \n",
       "4  1945            137559              133673                   3886   \n",
       "\n",
       "   House_Hold  Marriages  Divorces  Births  Dead  Arrival  Going-away  \\\n",
       "0       38208       1431       170    1631  1290    12321        9391   \n",
       "1       39018       1433       173    1700  1291    12420        9751   \n",
       "2       39828       1434       176    1769  1293    12520       10112   \n",
       "3       40639       1436       178    1838  1294    12619       10472   \n",
       "4       41449       1438       181    1907  1296    12719       10833   \n",
       "\n",
       "   Unemployment  \n",
       "0           168  \n",
       "1           169  \n",
       "2           170  \n",
       "3           171  \n",
       "4           172  "
      ]
     },
     "execution_count": 3,
     "metadata": {},
     "output_type": "execute_result"
    }
   ],
   "source": [
    "df = pd.read_csv(r'C:\\Users\\Startklar\\Documents\\GitHub\\project_Bern\\output.csv')\n",
    "df.head()"
   ]
  },
  {
   "cell_type": "code",
   "execution_count": 4,
   "metadata": {},
   "outputs": [
    {
     "data": {
      "text/plain": [
       "Index(['Year', 'Population_Total', 'Population_Natives',\n",
       "       'Population_Immigrants', 'House_Hold', 'Marriages', 'Divorces',\n",
       "       'Births', 'Dead', 'Arrival', 'Going-away', 'Unemployment'],\n",
       "      dtype='object')"
      ]
     },
     "execution_count": 4,
     "metadata": {},
     "output_type": "execute_result"
    }
   ],
   "source": [
    "df.columns"
   ]
  },
  {
   "cell_type": "code",
   "execution_count": 6,
   "metadata": {},
   "outputs": [
    {
     "name": "stdout",
     "output_type": "stream",
     "text": [
      "<class 'pandas.core.frame.DataFrame'>\n",
      "RangeIndex: 82 entries, 0 to 81\n",
      "Data columns (total 12 columns):\n",
      " #   Column                 Non-Null Count  Dtype\n",
      "---  ------                 --------------  -----\n",
      " 0   Year                   82 non-null     int64\n",
      " 1   Population_Total       82 non-null     int64\n",
      " 2   Population_Natives     82 non-null     int64\n",
      " 3   Population_Immigrants  82 non-null     int64\n",
      " 4   House_Hold             82 non-null     int64\n",
      " 5   Marriages              82 non-null     int64\n",
      " 6   Divorces               82 non-null     int64\n",
      " 7   Births                 82 non-null     int64\n",
      " 8   Dead                   82 non-null     int64\n",
      " 9   Arrival                82 non-null     int64\n",
      " 10  Going-away             82 non-null     int64\n",
      " 11  Unemployment           82 non-null     int64\n",
      "dtypes: int64(12)\n",
      "memory usage: 7.8 KB\n"
     ]
    }
   ],
   "source": [
    "df.info()   "
   ]
  },
  {
   "cell_type": "code",
   "execution_count": 7,
   "metadata": {},
   "outputs": [],
   "source": [
    "#1st target: Population\n",
    "y = df['Population_Total']\n",
    "X = df.drop(['Population_Total'],axis=1)"
   ]
  },
  {
   "cell_type": "code",
   "execution_count": 8,
   "metadata": {},
   "outputs": [],
   "source": [
    "X_train, X_test, y_train, y_test = train_test_split(X, y, test_size=0.2, random_state=42)"
   ]
  },
  {
   "cell_type": "code",
   "execution_count": 11,
   "metadata": {},
   "outputs": [
    {
     "name": "stderr",
     "output_type": "stream",
     "text": [
      "c:\\Users\\Startklar\\anaconda3\\lib\\site-packages\\sklearn\\linear_model\\_logistic.py:814: ConvergenceWarning: lbfgs failed to converge (status=1):\n",
      "STOP: TOTAL NO. of ITERATIONS REACHED LIMIT.\n",
      "\n",
      "Increase the number of iterations (max_iter) or scale the data as shown in:\n",
      "    https://scikit-learn.org/stable/modules/preprocessing.html\n",
      "Please also refer to the documentation for alternative solver options:\n",
      "    https://scikit-learn.org/stable/modules/linear_model.html#logistic-regression\n",
      "  n_iter_i = _check_optimize_result(\n"
     ]
    },
    {
     "data": {
      "text/plain": [
       "DecisionTreeClassifier(random_state=42)"
      ]
     },
     "execution_count": 11,
     "metadata": {},
     "output_type": "execute_result"
    }
   ],
   "source": [
    "#Models:\n",
    "random_forest = RandomForestRegressor(n_estimators=100, random_state=42)\n",
    "random_forest.fit(X_train, y_train)\n",
    "\n",
    "logistic_regression = LogisticRegression(random_state=42, max_iter=500)\n",
    "logistic_regression.fit(X_train, y_train)\n",
    "\n",
    "decision_tree = DecisionTreeClassifier(random_state=42)\n",
    "decision_tree.fit(X_train, y_train)"
   ]
  },
  {
   "cell_type": "code",
   "execution_count": 12,
   "metadata": {},
   "outputs": [],
   "source": [
    "y_pred_rf = random_forest.predict(X_test)\n",
    "y_pred_lr = logistic_regression.predict(X_test)\n",
    "y_pred_dt = decision_tree.predict(X_test)"
   ]
  },
  {
   "cell_type": "code",
   "execution_count": 13,
   "metadata": {},
   "outputs": [],
   "source": [
    "acc_rf = round(random_forest.score(X_train, y_train) * 100, 2)\n",
    "acc_lr = round(logistic_regression.score(X_train, y_train) * 100, 2)\n",
    "acc_dt = round(decision_tree.score(X_train, y_train) * 100, 2)"
   ]
  },
  {
   "cell_type": "code",
   "execution_count": 14,
   "metadata": {},
   "outputs": [
    {
     "data": {
      "text/html": [
       "<div>\n",
       "<style scoped>\n",
       "    .dataframe tbody tr th:only-of-type {\n",
       "        vertical-align: middle;\n",
       "    }\n",
       "\n",
       "    .dataframe tbody tr th {\n",
       "        vertical-align: top;\n",
       "    }\n",
       "\n",
       "    .dataframe thead th {\n",
       "        text-align: right;\n",
       "    }\n",
       "</style>\n",
       "<table border=\"1\" class=\"dataframe\">\n",
       "  <thead>\n",
       "    <tr style=\"text-align: right;\">\n",
       "      <th></th>\n",
       "      <th>Model</th>\n",
       "      <th>Score</th>\n",
       "    </tr>\n",
       "  </thead>\n",
       "  <tbody>\n",
       "    <tr>\n",
       "      <th>1</th>\n",
       "      <td>Decision Tree</td>\n",
       "      <td>100.00</td>\n",
       "    </tr>\n",
       "    <tr>\n",
       "      <th>2</th>\n",
       "      <td>Logistic Regression</td>\n",
       "      <td>100.00</td>\n",
       "    </tr>\n",
       "    <tr>\n",
       "      <th>0</th>\n",
       "      <td>Random Forest</td>\n",
       "      <td>99.56</td>\n",
       "    </tr>\n",
       "  </tbody>\n",
       "</table>\n",
       "</div>"
      ],
      "text/plain": [
       "                 Model   Score\n",
       "1        Decision Tree  100.00\n",
       "2  Logistic Regression  100.00\n",
       "0        Random Forest   99.56"
      ]
     },
     "execution_count": 14,
     "metadata": {},
     "output_type": "execute_result"
    }
   ],
   "source": [
    "score = pd.DataFrame({\n",
    "    'Model': ['Random Forest', 'Decision Tree', 'Logistic Regression'],\n",
    "    'Score': [acc_rf, acc_lr, acc_dt]})\n",
    "score.sort_values(by='Score', ascending=False)\n",
    "#Let's use Decision Tree to predict Population in 2050"
   ]
  }
 ],
 "metadata": {
  "kernelspec": {
   "display_name": "base",
   "language": "python",
   "name": "python3"
  },
  "language_info": {
   "codemirror_mode": {
    "name": "ipython",
    "version": 3
   },
   "file_extension": ".py",
   "mimetype": "text/x-python",
   "name": "python",
   "nbconvert_exporter": "python",
   "pygments_lexer": "ipython3",
   "version": "3.9.13"
  }
 },
 "nbformat": 4,
 "nbformat_minor": 2
}
